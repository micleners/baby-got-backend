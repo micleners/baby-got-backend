{
 "cells": [
  {
   "cell_type": "markdown",
   "metadata": {
    "slideshow": {
     "slide_type": "slide"
    }
   },
   "source": [
    "<div style=\"display: flex; flex-direction: row\">\n",
    "<div><h1 style=\"padding:0px; margin:4px;\">Baby Got Backend:</h1> \n",
    "<h2 style=\"padding-left:10px; margin:4px;\"><em>To Server, Serverless or Headless CMS</em> 🧐<br></h2>\n",
    "\n",
    "<h3>What to Expect</h3>\n",
    "<ul>\n",
    "<li>Traditional on-prem servers</li>\n",
    "<li>Cloud Hosting: DigitalOcean & AWS EC2</li>\n",
    "<li>Serverless: Amazon Lambda, S3, API Gateway, etc.</li>\n",
    "<li>Command line deployment: Netlify, Zeit and Heroku:\n",
    "    <br>Deployment options for Node.js and Django</li>\n",
    "<li>Firebase and Firestore in a Vue Application</li>\n",
    "<li>Headless CMS: \n",
    "    <br>Contentful (in Angular), Sanity, Netlify CMS and Prismic</li>\n",
    "</ul>\n",
    "<h2>Find this presentation: <em><span style=\"color:#3D1A57\">github.com/micleners/baby-got-backend</span></em></h2>\n",
    "</div>\n",
    "<div style=\"background: #F7F7F7; width: 350px; padding: 0 10px 10px 10px; border-radius: 5px;\">\n",
    "    <h5>Brought to you by:</h5>\n",
    "    <img style=\"height: 50px;\" src=\"static/bgb/sa-logo.png\"/>\n",
    "    <br>\n",
    "    <h5 style=\"margin-top:10px;\"><em>Presentation by</em></h5>\n",
    "    <h2 style=\"margin-top:4px; margin-left: 30px\"><em style=\"color:#3D1A57\"> Michael Leners</em></h2>\n",
    "        <h2 style=\"color: #3D1A57; display:flex; flex-direction: row; align-items: baseline;\"><img style=\"display:inline; height: 50px; margin: none;\" src=\"static/bgb/twitter.png\"/><em>@micleners</em>\n",
    "        </h2>\n",
    "        <h2 style=\"color: #3D1A57; display:flex; flex-direction: row; align-items: baseline;\"><img style=\"display:inline; height: 50px; margin: none;\" src=\"static/bgb/github.png\"/><em>@micleners</em></h2>\n",
    "</div>\n",
    "</div>"
   ]
  },
  {
   "cell_type": "markdown",
   "metadata": {
    "slideshow": {
     "slide_type": "slide"
    }
   },
   "source": [
    "# Goal of this Presentation: *Share and Inspire*\n",
    "\n",
    "![Just Build Websites - Chris Coyier](static/bgb/just-build-websites.png)"
   ]
  },
  {
   "cell_type": "markdown",
   "metadata": {
    "slideshow": {
     "slide_type": "slide"
    }
   },
   "source": [
    "## Web Architecture Zoomed Out\n",
    "![API-architecture](static/bgb/computer-api-server.png)"
   ]
  },
  {
   "cell_type": "markdown",
   "metadata": {
    "slideshow": {
     "slide_type": "slide"
    }
   },
   "source": [
    "## Traditional Backend: On-Prem or Hosted Servers\n",
    "![angular-architecture](static/bgb/angular-dotnet-architecture.png)"
   ]
  },
  {
   "cell_type": "markdown",
   "metadata": {
    "slideshow": {
     "slide_type": "slide"
    }
   },
   "source": [
    "## Traditional Backend: On-Prem or Hosted Servers\n",
    "![cloud-vs-on-prem](static/bgb/cloud-vs-onprem.jpg)"
   ]
  },
  {
   "cell_type": "markdown",
   "metadata": {
    "slideshow": {
     "slide_type": "slide"
    }
   },
   "source": [
    "## Traditional Backend: On-Prem or Hosted Servers\n",
    "<br><div>TBH, my experience with server management has not been too stimulating. It's primarilly been cloud based and infrastructure as code. I've also heard it wasn't any better with on-prem<span style=\"font-size:30px;\"> 🤷‍♂️<span></div>\n",
    "Here are some pain points for on-prem:\n",
    "- Must maintain solution and related processes (also true for cloud but in different ways)\n",
    "- Responsible for server hardware, software, power consumption, and space\n",
    "- Must employ people to manage on-prem servers\n",
    "- Can't just upgrade to a bigger instance with a click/CLI command\n",
    "\n",
    "There are some advantages: having control over data, potentially being able to implement better security solutions (yet somewhat doubtful for most companies), governmental compliance. Here's an article that does a nice [compare and contrast](https://www.cleo.com/blog/knowledge-base-on-premise-vs-cloud)"
   ]
  },
  {
   "cell_type": "markdown",
   "metadata": {
    "slideshow": {
     "slide_type": "slide"
    }
   },
   "source": [
    "## The Emergence of Cloud Hosting - Dedicated Servers\n",
    "![alt text](static/hosted_solutions.png)"
   ]
  },
  {
   "cell_type": "markdown",
   "metadata": {
    "slideshow": {
     "slide_type": "slide"
    }
   },
   "source": [
    "# Option 1: Put what was local into the cloud\n",
    "![alt text](static/bgb/azure-on-prem.png)\n",
    "![alt text](static/bgb/azure-saas.png)"
   ]
  },
  {
   "cell_type": "markdown",
   "metadata": {
    "slideshow": {
     "slide_type": "slide"
    }
   },
   "source": [
    "## Digital Ocean Servers\n",
    "- [APS.NET Core](https://www.godo.dev/tutorials/aspnet-core-mysql-ubuntu-16-04/)\n",
    "- [Django](https://www.digitalocean.com/community/tutorials/how-to-set-up-django-with-postgres-nginx-and-gunicorn-on-ubuntu-18-04)\n",
    "- [Node.js](https://www.digitalocean.com/community/tutorials/how-to-set-up-a-node-js-application-for-production-on-ubuntu-18-04)\n",
    "\n",
    "### General Process on Digital Ocean:\n",
    "- Purchase $5 droplet (server)\n",
    "- SSH onto your server\n",
    "- Get your application set up through git\n",
    "- Set up DB appropriately\n",
    "- Set up appropriate server runner (Gunicorn for Django, Kestrel in APS.NET, PM2 for Node.js)\n",
    "- Set up a reverse proxy with Nginx to route domain to app\n",
    "- Profit\n",
    "\n",
    "## AWS EC2:\n",
    "- [APS.NET Core](https://docs.aws.amazon.com/elasticbeanstalk/latest/dg/dotnet-core-tutorial.html)\n",
    "- [Django](https://docs.aws.amazon.com/elasticbeanstalk/latest/dg/create-deploy-python-django.html)\n",
    "- [Node.js](https://docs.aws.amazon.com/elasticbeanstalk/latest/dg/create_deploy_nodejs.html)\n",
    "\n",
    "## Other options from Azure, Google Cloud, etc."
   ]
  },
  {
   "cell_type": "markdown",
   "metadata": {
    "slideshow": {
     "slide_type": "slide"
    }
   },
   "source": [
    "# Option 2: Serverless Break Up of Architecture\n",
    "![tradutuibal vs on-prem](static/bgb/traditional-vs-serverless.jpeg)"
   ]
  },
  {
   "cell_type": "markdown",
   "metadata": {
    "slideshow": {
     "slide_type": "slide"
    }
   },
   "source": [
    "## Approach to Serverless\n",
    "What is serverless, anyhow? I borrowed this definition from [this Medium Article](https://hackernoon.com/what-is-serverless-architecture-what-are-its-pros-and-cons-cc4b804022e9):\n",
    "\n",
    "*\"Serverless is a cloud computing execution model where the cloud provider dynamically manages the allocation and provisioning of servers. A serverless application runs in stateless compute containers that are event-triggered, ephemeral (may last for one invocation), and fully managed by the cloud provider. Pricing is based on the number of executions rather than pre-purchased compute capacity\"*\n",
    "\n",
    "### AWS Lambda\n",
    "- [Django (pictured below)](https://blog.lawrencemcdaniel.com/serve-a-django-app-from-an-aws-lambda-function/)\n",
    "- [ASP.NET Core](https://docs.aws.amazon.com/lambda/latest/dg/lambda-dotnet-coreclr-deployment-package.html)\n",
    "- [Node.js with Express](https://dev.to/brightdevs/how-to-convert-an-express-app-to-aws-lambda--44gc)\n",
    "- [Xilution Example for Serverless Node.js App](https://github.com/xilution/xilution-react-todomvc)\n",
    "- [Another NodeJS (pictured below)](https://medium.com/the-node-js-collection/building-your-first-serverless-app-in-node-js-with-aws-lambda-s3-api-gateway-4d87e808d9cc)"
   ]
  },
  {
   "cell_type": "markdown",
   "metadata": {
    "slideshow": {
     "slide_type": "slide"
    }
   },
   "source": [
    "## [Django AWS Serverless example](https://blog.lawrencemcdaniel.com/serve-a-django-app-from-an-aws-lambda-function/)\n",
    "![alt text](static/django-serverless-aws3.png)"
   ]
  },
  {
   "cell_type": "markdown",
   "metadata": {
    "slideshow": {
     "slide_type": "slide"
    }
   },
   "source": [
    "## [NodeJS Serverless example](https://medium.com/the-node-js-collection/building-your-first-serverless-app-in-node-js-with-aws-lambda-s3-api-gateway-4d87e808d9cc)\n",
    "![alt text](static/aws_lambda_nodejs.jpeg)"
   ]
  },
  {
   "cell_type": "markdown",
   "metadata": {
    "slideshow": {
     "slide_type": "slide"
    }
   },
   "source": [
    "# Option 3: Firebase Serverless Model\n",
    "<div style=\"display: flex; flex-direction: row; align-items: flex-start\"><img src=\"static/bgb/firebase-architecture.png\" style=\"width: 70%; height: 70%; margin-top:30px\" /></div>"
   ]
  },
  {
   "cell_type": "markdown",
   "metadata": {
    "slideshow": {
     "slide_type": "slide"
    }
   },
   "source": [
    "## Firebase 🔥\n",
    "Firebase offers a comprehensive development platform for making mobile and web apps. It is a cloud solution provided by Google. It can be used with applications for authentication, analytics, storage, databases, and beyond. We'll look at Firestore.\n",
    "\n",
    "### I started an app named [NomTime](https://github.com/micleners/nomtime) using these tutorials:\n",
    "- [How to build an SPA using Vue.js, Vuex, Vuetify, and Firebase: use Vuex and access the API](https://www.freecodecamp.org/news/how-to-build-an-spa-using-vue-js-vuex-vuetify-and-firebase-use-vuex-and-access-the-api-f8036aa464ad/)\n",
    "- [Working an application in Vue.js with TDD](https://medium.com/magnetis-backstage/working-an-application-in-vue-js-with-tdd-an-extensive-guide-for-people-who-have-time-part-1-3be791dafa2b)\n",
    "- [A Vuex Tutorial by Example - Learn Vue State Management](https://coursetro.com/posts/code/144/A-Vuex-Tutorial-by-Example---Learn-Vue-State-Management)"
   ]
  },
  {
   "cell_type": "markdown",
   "metadata": {
    "slideshow": {
     "slide_type": "slide"
    }
   },
   "source": [
    "## NomTime App Structure\n",
    "![alt text](static/bgb/nomtime-architecture.png)"
   ]
  },
  {
   "cell_type": "markdown",
   "metadata": {
    "slideshow": {
     "slide_type": "slide"
    }
   },
   "source": [
    "## Hooking up Firebase to Vue Application (similar in other frameworks):\n",
    "- Install Firebase npm package\n",
    "- Initiate Firebase (in `main.js` in Vue project)\n",
    "- Set up db context (point to `firebase.firestore()`)\n",
    "- Use the db to get, save, update, etc.\n",
    "\n",
    "### Additionally API/Functionality Management:\n",
    "- I created an action call to get data from the Edamam API service (see first tutorial above)\n",
    "- I created a button called `Load Recipes` that takes the search query, makes a request to get the top 10 results, then stores the query result to the firestore DB\n",
    "- Future goal was to have a more robust user interface and functionality. See [design mock ups in repo](https://github.com/micleners/nomtime)"
   ]
  },
  {
   "cell_type": "markdown",
   "metadata": {
    "slideshow": {
     "slide_type": "slide"
    }
   },
   "source": [
    "# Option 4: Command Line Deployment\n",
    "<div style=\"display: flex; flex-direction: row; align-items: flex-start; justify-content: space-between\"><img src=\"static/bgb/netlify.png\" style=\"width: 20%; height: 20%; margin-top:30px\" /><img src=\"static/bgb/heroku.png\" style=\"width: 10%; height: 10%;\" /></div>\n",
    "<div style=\"display: flex; flex-direction: row; align-items: flex-start; margin-top: -40px\"><img src=\"static/bgb/zeit-now.png\" style=\"width: 100%; height: 80%; margin-top:30px\" /></div>"
   ]
  },
  {
   "cell_type": "markdown",
   "metadata": {
    "slideshow": {
     "slide_type": "slide"
    }
   },
   "source": [
    "## Heroku my Hero 🥰\n",
    "It makes deployment easy - Heroku takes a lot of the legwork out of the way. All possible from the command line!\n",
    "Similar to [Netlify](https://www.netlify.com/) and [Zeit's Now.sh](https://zeit.co/now)\n",
    "\n",
    "### Node.js Documentation on Heroku\n",
    "[Heroku Tuturial for Node.js](https://devcenter.heroku.com/articles/getting-started-with-nodejs)\n",
    "\n",
    "#### Personal Quest\n",
    "[Twilio Quest](https://www.twilio.com/quest/u/mdevstix) while I was working on applying for a software education position with Twilio on the Twilio Quest team. Used Node.js and deployed on Heroku as found in my [Twilio Quest repo](https://github.com/micleners/twilioquest-sms).\n",
    "\n",
    "### Note: No sanctioned ASP.NET solution on Heroku"
   ]
  },
  {
   "cell_type": "markdown",
   "metadata": {
    "slideshow": {
     "slide_type": "slide"
    }
   },
   "source": [
    "### Django on Heroku\n",
    "[Example for using Postgres with Django on Heroku](https://medium.com/@qazi/how-to-deploy-a-django-app-to-heroku-in-2018-the-easy-way-48a528d97f9c)\n",
    "Deploying Django applications onto Heroku is similar to other applications:\n",
    "- Place Procfile in root directory directing Gunicorn be used for deploying\n",
    "- Make sure you have a requirements.txt, Pipfile or similar file declaring packages to install\n",
    "- Include heroku-django settings and commands to help alleviate difficulties around static deploy\n",
    "- Use Heroku CLI to push up to deploy.\n",
    "\n",
    "Example of this can be found at the end of my [django workshop](https://github.com/micleners/django-workshop) & in the commit log\n",
    "\n",
    "Example of running [django API endpoint](https://radiant-brushlands-99143.herokuapp.com/api)"
   ]
  },
  {
   "cell_type": "markdown",
   "metadata": {
    "slideshow": {
     "slide_type": "slide"
    }
   },
   "source": [
    "# Option 5: A Headless CMS\n",
    "![alt text](static/bgb/headless-vs-traditional-cms.png)"
   ]
  },
  {
   "cell_type": "markdown",
   "metadata": {
    "slideshow": {
     "slide_type": "slide"
    }
   },
   "source": [
    "# Contentful\n",
    "Beyond headless CMS, Contentful is the essential API-first content management infrastructure to create, manage and distribute content to any platform or device. \n",
    "[Easy start with GatsbyJS](https://www.contentful.com/r/knowledgebase/gatsbyjs-and-contentful-in-five-minutes/)\n",
    "\n",
    "## Contentful and Angular\n",
    "I've just begun to play around with this, but so far I'm loving Contentful. Here's what I've done:\n",
    "- Used [this contenful tutorial](https://www.contentful.com/developers/docs/javascript/tutorials/using-contentful-in-an-angular-project/) to load up products in publicly available space\n",
    "- Created my own space with events, users and locations models (similar to [Django Workshop](https://github.com/micleners/django-workshop) API I created).\n",
    "- Swapped out the tutorial API code with my own, updated the data models and attributes. Data loaded nicely\n",
    "- Code is available [in this repo](https://github.com/micleners/angular-contentful)"
   ]
  },
  {
   "cell_type": "markdown",
   "metadata": {
    "slideshow": {
     "slide_type": "slide"
    }
   },
   "source": [
    "# Other Headless CMS Options:\n",
    "\n",
    "- [SanityIO with Gatsby](https://www.sanity.io/blog/how-to-quickly-set-up-a-gatsby-js-jamstack-website-with-a-headless-cms)\n",
    "- [SanityIO on Zeit Now](https://zeit.co/guides/deploying-sanity-studio-with-now)\n",
    "\n",
    "- [Netlify CMS with NextJS](https://www.netlifycms.org/docs/nextjs/)\n",
    "- [Netlify CMS with Gatsby](https://www.netlifycms.org/docs/gatsby/)\n",
    "- [WordPress as a Headless CMS with Vanilla JS](https://www.sitepoint.com/wordpress-headless-cms/)\n",
    "- [WordPress as a Headless CMS with Gatsby](https://www.gatsbyjs.org/blog/2018-01-22-getting-started-gatsby-and-wordpress/)\n",
    "- [Prismic](https://prismic.io/)"
   ]
  },
  {
   "cell_type": "markdown",
   "metadata": {
    "slideshow": {
     "slide_type": "slide"
    }
   },
   "source": [
    "<div style=\"display: flex; flex-direction: row\">\n",
    "<div>\n",
    "    \n",
    "# Questions, Comments or Remarks? 🧐\n",
    "\n",
    "## All resources available at: *github.com/micleners/baby-got-backend*\n",
    "- [This Presentation](https://github.com/micleners/baby-got-backend) (Angular-Contentful Project):\n",
    " - [Easy start with GatsbyJS](https://www.contentful.com/r/knowledgebase/gatsbyjs-and-contentful-in-five-minutes/)\n",
    " - [Angular tutorial](https://www.contentful.com/developers/docs/javascript/tutorials/using-contentful-in-an-angular-project/)\n",
    "- [NomTime](https://github.com/micleners/nomtime) (Vue application with Firestore and Edamam API): \n",
    " - [How to build an SPA using Vue.js, Vuex, Vuetify, and Firebase: use Vuex and access the API](https://www.freecodecamp.org/news/how-to-build-an-spa-using-vue-js-vuex-vuetify-and-firebase-use-vuex-and-access-the-api-f8036aa464ad/)\n",
    " - [Working an application in Vue.js with TDD](https://medium.com/magnetis-backstage/working-an-application-in-vue-js-with-tdd-an-extensive-guide-for-people-who-have-time-part-1-3be791dafa2b)\n",
    " - [A Vuex Tutorial by Example - Learn Vue State Management](https://coursetro.com/posts/code/144/A-Vuex-Tutorial-by-Example---Learn-Vue-State-Management)\n",
    "- [Django REST API Workshop](https://github.com/micleners/django-workshop)\n",
    "- [Full Stack with Ember and Django](https://github.com/micleners/DSM-Web-Geeks)\n",
    "- Heroku, AWS EC2 vs Lambda, and Digital Ocean Links and Headless CMS links can be found in slides above\n",
    "\n",
    "# 🙏 Thank you for coming and have a great rest of the conference!\n",
    "</div>\n",
    "<div style=\"background: #F7F7F7; width: 350px; padding: 0 10px 10px 10px; border-radius: 5px;\">\n",
    "    <h5>Brought to you by:</h5>\n",
    "    <img style=\"height: 50px;\" src=\"static/bgb/sa-logo.png\"/>\n",
    "    <br>\n",
    "    <h5 style=\"margin-top:10px;\"><em>Presentation by</em></h5>\n",
    "    <h2 style=\"margin-top:4px; margin-left: 30px\"><em style=\"color:#3D1A57\"> Michael Leners</em></h2>\n",
    "        <h2 style=\"color: #3D1A57; display:flex; flex-direction: row; align-items: baseline;\"><img style=\"display:inline; height: 50px; margin: none;\" src=\"static/bgb/twitter.png\"/><em>@micleners</em>\n",
    "        </h2>\n",
    "        <h2 style=\"color: #3D1A57; display:flex; flex-direction: row; align-items: baseline;\"><img style=\"display:inline; height: 50px; margin: none;\" src=\"static/bgb/github.png\"/><em>@micleners</em></h2>\n",
    "</div>\n",
    "</div>"
   ]
  }
 ],
 "metadata": {
  "celltoolbar": "Slideshow",
  "kernelspec": {
   "display_name": "Python 3",
   "language": "python",
   "name": "python3"
  },
  "language_info": {
   "codemirror_mode": {
    "name": "ipython",
    "version": 3
   },
   "file_extension": ".py",
   "mimetype": "text/x-python",
   "name": "python",
   "nbconvert_exporter": "python",
   "pygments_lexer": "ipython3",
   "version": "3.7.1"
  }
 },
 "nbformat": 4,
 "nbformat_minor": 2
}
